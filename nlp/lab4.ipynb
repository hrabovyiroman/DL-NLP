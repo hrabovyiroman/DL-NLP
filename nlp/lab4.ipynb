{
 "cells": [
  {
   "cell_type": "code",
   "execution_count": 27,
   "id": "bf5b461f",
   "metadata": {},
   "outputs": [],
   "source": [
    "import pandas as pd\n",
    "import random\n",
    "from nltk import classify, NaiveBayesClassifier\n",
    "import nltk\n",
    "from nltk.corpus import twitter_samples, stopwords\n",
    "from nltk.stem import WordNetLemmatizer\n",
    "from nltk.tag import pos_tag\n",
    "from nltk.tokenize import word_tokenize\n",
    "import re, string"
   ]
  },
  {
   "cell_type": "code",
   "execution_count": 28,
   "id": "f64fbbbb",
   "metadata": {},
   "outputs": [
    {
     "name": "stderr",
     "output_type": "stream",
     "text": [
      "[nltk_data] Downloading package twitter_samples to\n",
      "[nltk_data]     C:\\Users\\Admin\\AppData\\Roaming\\nltk_data...\n",
      "[nltk_data]   Package twitter_samples is already up-to-date!\n",
      "[nltk_data] Downloading package averaged_perceptron_tagger to\n",
      "[nltk_data]     C:\\Users\\Admin\\AppData\\Roaming\\nltk_data...\n",
      "[nltk_data]   Package averaged_perceptron_tagger is already up-to-\n",
      "[nltk_data]       date!\n",
      "[nltk_data] Downloading package wordnet to\n",
      "[nltk_data]     C:\\Users\\Admin\\AppData\\Roaming\\nltk_data...\n",
      "[nltk_data]   Package wordnet is already up-to-date!\n",
      "[nltk_data] Downloading package stopwords to\n",
      "[nltk_data]     C:\\Users\\Admin\\AppData\\Roaming\\nltk_data...\n",
      "[nltk_data]   Package stopwords is already up-to-date!\n",
      "[nltk_data] Downloading package punkt to\n",
      "[nltk_data]     C:\\Users\\Admin\\AppData\\Roaming\\nltk_data...\n",
      "[nltk_data]   Package punkt is already up-to-date!\n"
     ]
    },
    {
     "data": {
      "text/plain": [
       "True"
      ]
     },
     "execution_count": 28,
     "metadata": {},
     "output_type": "execute_result"
    }
   ],
   "source": [
    "nltk.download('twitter_samples')\n",
    "nltk.download('averaged_perceptron_tagger')\n",
    "nltk.download('wordnet')\n",
    "nltk.download('stopwords')\n",
    "nltk.download('punkt')"
   ]
  },
  {
   "cell_type": "code",
   "execution_count": 29,
   "id": "9d856a67",
   "metadata": {},
   "outputs": [],
   "source": [
    "def process_tokens(tweet_tokens):\n",
    "    \"\"\"Функція для очищення та лематизації токенів.\"\"\"\n",
    "    cleaned_tokens = []\n",
    "    stop_words = stopwords.words('english')\n",
    "    lemmatizer = WordNetLemmatizer()\n",
    "\n",
    "    for token, tag in pos_tag(tweet_tokens):\n",
    "        token = re.sub('(@[A-Za-z0-9_]+)|(https?://[A-Za-z0-9./]+)', '', token)\n",
    "\n",
    "        if token and token.lower() not in stop_words and token not in string.punctuation:\n",
    "            if tag.startswith('NN'):\n",
    "                pos = 'n'\n",
    "            elif tag.startswith('VB'):\n",
    "                pos = 'v'\n",
    "            else:\n",
    "                pos = 'a'\n",
    "            cleaned_token = lemmatizer.lemmatize(token.lower(), pos)\n",
    "            cleaned_tokens.append(cleaned_token)\n",
    "    return cleaned_tokens\n",
    "\n",
    "positive_tweet_tokens = twitter_samples.tokenized('positive_tweets.json')\n",
    "negative_tweet_tokens = twitter_samples.tokenized('negative_tweets.json')\n",
    "\n",
    "positive_cleaned_tokens_list = [process_tokens(tokens) for tokens in positive_tweet_tokens]\n",
    "negative_cleaned_tokens_list = [process_tokens(tokens) for tokens in negative_tweet_tokens]"
   ]
  },
  {
   "cell_type": "markdown",
   "id": "876b2aff",
   "metadata": {},
   "source": [
    "# TASK 0 "
   ]
  },
  {
   "cell_type": "code",
   "execution_count": 30,
   "id": "761d4a8d",
   "metadata": {},
   "outputs": [
    {
     "name": "stdout",
     "output_type": "stream",
     "text": [
      "Accuracy is: 0.9943333333333333\n",
      "Most Informative Features\n",
      "                     sad = True           Negati : Positi =     34.2 : 1.0\n",
      "                follower = True           Positi : Negati =     23.1 : 1.0\n",
      "                     bam = True           Positi : Negati =     21.5 : 1.0\n",
      "                    sick = True           Negati : Positi =     19.2 : 1.0\n",
      "                    cool = True           Positi : Negati =     18.1 : 1.0\n",
      "              appreciate = True           Positi : Negati =     16.0 : 1.0\n",
      "                    blog = True           Positi : Negati =     14.0 : 1.0\n",
      "             opportunity = True           Positi : Negati =     13.3 : 1.0\n",
      "                 welcome = True           Positi : Negati =     13.0 : 1.0\n",
      "                    miss = True           Negati : Positi =     12.6 : 1.0\n",
      "None\n"
     ]
    }
   ],
   "source": [
    "def get_token_dict(tokens):\n",
    "    \"\"\"Перетворює список токенів у словник для моделі.\"\"\"\n",
    "    return dict([token, True] for token in tokens)\n",
    "\n",
    "def get_tweets_for_model(cleaned_tokens_list):\n",
    "    \"\"\"Готує дані для класифікатора NLTK.\"\"\"\n",
    "    return [get_token_dict(tweet_tokens) for tweet_tokens in cleaned_tokens_list]\n",
    "\n",
    "positive_tokens_for_model = get_tweets_for_model(positive_cleaned_tokens_list)\n",
    "negative_tokens_for_model = get_tweets_for_model(negative_cleaned_tokens_list)\n",
    "\n",
    "positive_dataset = [(tweet_dict, \"Positive\") for tweet_dict in positive_tokens_for_model]\n",
    "negative_dataset = [(tweet_dict, \"Negative\") for tweet_dict in negative_tokens_for_model]\n",
    "\n",
    "dataset = positive_dataset + negative_dataset\n",
    "random.shuffle(dataset)\n",
    "\n",
    "train_data = dataset[:7000]\n",
    "test_data = dataset[7000:]\n",
    "\n",
    "classifier = NaiveBayesClassifier.train(train_data)\n",
    "\n",
    "print(\"Accuracy is:\", classify.accuracy(classifier, test_data))\n",
    "print(classifier.show_most_informative_features(10))\n"
   ]
  },
  {
   "cell_type": "code",
   "execution_count": 31,
   "id": "26f7042b",
   "metadata": {},
   "outputs": [
    {
     "name": "stdout",
     "output_type": "stream",
     "text": [
      "\"The service was amazing\": Positive\n",
      "\"I am very happy\": Positive\n",
      "\"This is the worst experience ever\": Negative\n",
      "\"It was a total disaster\": Negative\n"
     ]
    }
   ],
   "source": [
    "def get_sentiment(text):\n",
    "    custom_tokens = process_tokens(word_tokenize(text))\n",
    "    return classifier.classify(get_token_dict(custom_tokens))\n",
    "\n",
    "test_phrases = [\"The service was amazing\", \"I am very happy\", \"This is the worst experience ever\", \"It was a total disaster\"]\n",
    "for t in test_phrases:\n",
    "    print(f'\"{t}\": {get_sentiment(t)}')"
   ]
  },
  {
   "cell_type": "markdown",
   "id": "31b80012",
   "metadata": {},
   "source": [
    "# TASK 1"
   ]
  },
  {
   "cell_type": "code",
   "execution_count": null,
   "id": "b37833cb",
   "metadata": {},
   "outputs": [
    {
     "name": "stdout",
     "output_type": "stream",
     "text": [
      "\n",
      "--- Financial Sentiment Analysis ---\n",
      "Accuracy on financial dataset: 0.7697974217311234\n",
      "Most Informative Features\n",
      "                decrease = True           negati : positi =     25.2 : 1.0\n",
      "                    fell = True           negati : positi =     22.8 : 1.0\n",
      "                 decline = True           negati : positi =     21.9 : 1.0\n",
      "                   staff = True           negati : positi =     17.7 : 1.0\n",
      "                    fall = True           negati : positi =     16.7 : 1.0\n",
      "                     lay = True           negati : positi =     16.3 : 1.0\n",
      "                    drop = True           negati : positi =     14.3 : 1.0\n",
      "                      25 = True           negati : positi =     13.5 : 1.0\n",
      "               agreement = True           positi : negati =     13.0 : 1.0\n",
      "                    sign = True           positi : negati =     12.4 : 1.0\n",
      "None\n",
      "\"The company's revenue increased significantly, leading to higher profits.\": positive\n"
     ]
    }
   ],
   "source": [
    "df = pd.read_csv('data1.csv', encoding='latin1')\n",
    "df = df[['Sentiment', 'Sentence']]\n",
    "\n",
    "df = df[df['Sentiment'].isin(['positive', 'negative'])]\n",
    "\n",
    "df['Tokens'] = df['Sentence'].apply(lambda x: process_tokens(word_tokenize(x)))\n",
    "\n",
    "new_data = []\n",
    "for index, row in df.iterrows():\n",
    "    new_data.append((get_token_dict(row['Tokens']), row['Sentiment']))\n",
    "\n",
    "random.shuffle(new_data)\n",
    "\n",
    "split_point = int(len(new_data) * 0.8)\n",
    "train_data_new = new_data[:split_point]\n",
    "test_data_new = new_data[split_point:]\n",
    "\n",
    "financial_classifier = NaiveBayesClassifier.train(train_data_new)\n",
    "\n",
    "print(\"\\n--- Financial Sentiment Analysis ---\")\n",
    "print(\"Accuracy on financial dataset:\", classify.accuracy(financial_classifier, test_data_new))\n",
    "print(financial_classifier.show_most_informative_features(10))\n",
    "\n",
    "# Тестування\n",
    "financial_phrase = \"The company's revenue increased significantly, leading to higher profits.\"\n",
    "financial_tokens = process_tokens(word_tokenize(financial_phrase))\n",
    "print(f'\"{financial_phrase}\": {financial_classifier.classify(get_token_dict(financial_tokens))}')\n"
   ]
  },
  {
   "cell_type": "markdown",
   "id": "5c71837a",
   "metadata": {},
   "source": [
    "# TASK 2"
   ]
  },
  {
   "cell_type": "code",
   "execution_count": 33,
   "id": "db9f0389",
   "metadata": {},
   "outputs": [
    {
     "name": "stdout",
     "output_type": "stream",
     "text": [
      "\n",
      "--- Logistic Regression vs. Naive Bayes ---\n",
      "Logistic Regression Accuracy: 0.997\n",
      "Naive Bayes Accuracy: 0.9943333333333333\n",
      "\n",
      "Порівняння:\n",
      "Логістична регресія показала кращу точність.\n"
     ]
    }
   ],
   "source": [
    "from nltk.classify.scikitlearn import SklearnClassifier\n",
    "from sklearn.linear_model import LogisticRegression\n",
    "\n",
    "lr_classifier = SklearnClassifier(LogisticRegression(max_iter=1000))\n",
    "lr_classifier.train(train_data)\n",
    "\n",
    "accuracy_lr = classify.accuracy(lr_classifier, test_data)\n",
    "print(\"\\n--- Logistic Regression vs. Naive Bayes ---\")\n",
    "print(f\"Logistic Regression Accuracy: {accuracy_lr}\")\n",
    "print(f\"Naive Bayes Accuracy: {classify.accuracy(classifier, test_data)}\")\n",
    "\n",
    "print(\"\\nПорівняння:\")\n",
    "if accuracy_lr > classify.accuracy(classifier, test_data):\n",
    "    print(\"Логістична регресія показала кращу точність.\")\n",
    "else:\n",
    "    print(\"Наївний Байєс показав кращу або таку ж точність.\")"
   ]
  }
 ],
 "metadata": {
  "kernelspec": {
   "display_name": "Python 3",
   "language": "python",
   "name": "python3"
  },
  "language_info": {
   "codemirror_mode": {
    "name": "ipython",
    "version": 3
   },
   "file_extension": ".py",
   "mimetype": "text/x-python",
   "name": "python",
   "nbconvert_exporter": "python",
   "pygments_lexer": "ipython3",
   "version": "3.12.7"
  }
 },
 "nbformat": 4,
 "nbformat_minor": 5
}
