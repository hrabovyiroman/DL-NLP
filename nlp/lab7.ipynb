{
 "cells": [
  {
   "cell_type": "code",
   "execution_count": null,
   "id": "a3f89f4a",
   "metadata": {},
   "outputs": [
    {
     "name": "stdout",
     "output_type": "stream",
     "text": [
      "Корпус Treebank завантажено. Кількість документів: 199\n",
      "Приклад першого обробленого документа (перші 15 слів): ['pierre', 'vinken', 'years', 'old', 'join', 'board', 'nonexecutive', 'director', 'vinken', 'chairman', 'elsevier', 'dutch', 'publishing', 'group']\n"
     ]
    }
   ],
   "source": [
    "import nltk\n",
    "import math\n",
    "import numpy as np\n",
    "import pandas as pd\n",
    "from nltk.corpus import treebank, stopwords\n",
    "\n",
    "nltk.download('treebank', quiet=True)\n",
    "nltk.download('stopwords', quiet=True)\n",
    "\n",
    "stop_words = set(stopwords.words('english'))\n",
    "\n",
    "file_ids = treebank.fileids()\n",
    "documents = []\n",
    "for file_id in file_ids:\n",
    "    processed_words = [\n",
    "        word.lower() for word in treebank.words(file_id) \n",
    "        if word.isalpha() and word.lower() not in stop_words\n",
    "    ]\n",
    "    documents.append(processed_words)\n",
    "\n",
    "print(f\"Корпус Treebank завантажено. Кількість документів: {len(documents)}\")\n",
    "print(f\"Приклад першого обробленого документа (перші 15 слів): {documents[0][:15]}\")"
   ]
  },
  {
   "cell_type": "markdown",
   "id": "dda2d434",
   "metadata": {},
   "source": [
    "# TASK "
   ]
  },
  {
   "cell_type": "code",
   "execution_count": null,
   "id": "daad83a8",
   "metadata": {},
   "outputs": [],
   "source": [
    "class TfidfVectorizer:\n",
    "    def __init__(self):\n",
    "        self.vocabulary = set()\n",
    "        self.idf = {}\n",
    "        self.vocab_map = {}\n",
    "\n",
    "    def fit(self, documents):\n",
    "        \"\"\"\n",
    "        Навчає модель: створює словник та обчислює IDF для кожного слова.\n",
    "        \"\"\"\n",
    "        for doc in documents:\n",
    "            self.vocabulary.update(doc)\n",
    "        \n",
    "        self.vocabulary = sorted(list(self.vocabulary))\n",
    "        self.vocab_map = {word: i for i, word in enumerate(self.vocabulary)}\n",
    "        \n",
    "        num_documents = len(documents)\n",
    "        df = {word: 0 for word in self.vocabulary}\n",
    "        for word in self.vocabulary:\n",
    "            for doc in documents:\n",
    "                if word in doc:\n",
    "                    df[word] += 1\n",
    "        \n",
    "        for word, doc_freq in df.items():\n",
    "            self.idf[word] = math.log((num_documents + 1) / (doc_freq + 1))\n",
    "            \n",
    "    def transform(self, documents):\n",
    "        \"\"\"\n",
    "        Перетворює документи на TF-IDF матрицю.\n",
    "        \"\"\"\n",
    "        num_documents = len(documents)\n",
    "        num_terms = len(self.vocabulary)\n",
    "        tfidf_matrix = np.zeros((num_documents, num_terms))\n",
    "        \n",
    "        for doc_index, doc in enumerate(documents):\n",
    "            term_counts = {word: doc.count(word) for word in set(doc)}\n",
    "            \n",
    "            for term, count in term_counts.items():\n",
    "                if term in self.vocabulary:\n",
    "                    term_index = self.vocab_map[term]\n",
    "                    \n",
    "                    tf = 1 + math.log(count)\n",
    "                    \n",
    "                    tfidf_score = tf * self.idf[term]\n",
    "                    \n",
    "                    tfidf_matrix[doc_index, term_index] = tfidf_score\n",
    "                    \n",
    "        return tfidf_matrix\n",
    "    \n",
    "    def fit_transform(self, documents):\n",
    "        \"\"\"\n",
    "        Поєднує методи fit та transform.\n",
    "        \"\"\"\n",
    "        self.fit(documents)\n",
    "        return self.transform(documents)"
   ]
  },
  {
   "cell_type": "code",
   "execution_count": null,
   "id": "d8f8fe16",
   "metadata": {},
   "outputs": [
    {
     "name": "stdout",
     "output_type": "stream",
     "text": [
      "\n",
      "Розмір отриманої TF-IDF матриці: (199, 8989)\n",
      "(рядки - документи, стовпці - унікальні слова)\n",
      "\n",
      "TF-IDF матриця (перші 5 документів, перші 10 слів):\n",
      "   aba  abandon  abandoned  abating  abbey  abbot  abide  ability  able  \\\n",
      "0  0.0      0.0        0.0      0.0    0.0    0.0    0.0      0.0   0.0   \n",
      "1  0.0      0.0        0.0      0.0    0.0    0.0    0.0      0.0   0.0   \n",
      "2  0.0      0.0        0.0      0.0    0.0    0.0    0.0      0.0   0.0   \n",
      "3  0.0      0.0        0.0      0.0    0.0    0.0    0.0      0.0   0.0   \n",
      "4  0.0      0.0        0.0      0.0    0.0    0.0    0.0      0.0   0.0   \n",
      "\n",
      "   aboard  \n",
      "0     0.0  \n",
      "1     0.0  \n",
      "2     0.0  \n",
      "3     0.0  \n",
      "4     0.0  \n"
     ]
    }
   ],
   "source": [
    "vectorizer = TfidfVectorizer()\n",
    "tfidf_matrix = vectorizer.fit_transform(documents)\n",
    "\n",
    "print(f\"\\nРозмір отриманої TF-IDF матриці: {tfidf_matrix.shape}\")\n",
    "print(\"(рядки - документи, стовпці - унікальні слова)\")\n",
    "\n",
    "df_tfidf = pd.DataFrame(tfidf_matrix, columns=vectorizer.vocabulary)\n",
    "\n",
    "print(\"\\nTF-IDF матриця (перші 5 документів, перші 10 слів):\")\n",
    "print(df_tfidf.iloc[:5, :10].round(2))"
   ]
  }
 ],
 "metadata": {
  "kernelspec": {
   "display_name": "Python 3",
   "language": "python",
   "name": "python3"
  },
  "language_info": {
   "codemirror_mode": {
    "name": "ipython",
    "version": 3
   },
   "file_extension": ".py",
   "mimetype": "text/x-python",
   "name": "python",
   "nbconvert_exporter": "python",
   "pygments_lexer": "ipython3",
   "version": "3.12.7"
  }
 },
 "nbformat": 4,
 "nbformat_minor": 5
}
